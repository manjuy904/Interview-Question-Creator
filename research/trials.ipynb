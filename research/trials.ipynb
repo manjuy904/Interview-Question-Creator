{
 "cells": [
  {
   "cell_type": "code",
   "execution_count": 32,
   "metadata": {},
   "outputs": [
    {
     "name": "stdout",
     "output_type": "stream",
     "text": [
      "OK\n"
     ]
    }
   ],
   "source": [
    "print(\"OK\")"
   ]
  },
  {
   "cell_type": "markdown",
   "metadata": {},
   "source": [
    "### **Step 1: PDF data Extraction - PDF doc ---> Extracted doc**"
   ]
  },
  {
   "cell_type": "markdown",
   "metadata": {},
   "source": [
    "Importing Libraries"
   ]
  },
  {
   "cell_type": "code",
   "execution_count": 33,
   "metadata": {},
   "outputs": [
    {
     "name": "stdout",
     "output_type": "stream",
     "text": [
      "Requirement already satisfied: python-dotenv in c:\\anaconda3\\envs\\interview\\lib\\site-packages (1.0.1)\n"
     ]
    }
   ],
   "source": [
    "!pip install python-dotenv"
   ]
  },
  {
   "cell_type": "code",
   "execution_count": 34,
   "metadata": {},
   "outputs": [],
   "source": [
    "import os\n",
    "from dotenv import load_dotenv # to extract the API key from .env"
   ]
  },
  {
   "cell_type": "code",
   "execution_count": 35,
   "metadata": {},
   "outputs": [],
   "source": [
    "load_dotenv() # it will load the .env file and extract the API key and to acess that one we have to write once code here:\n",
    "OPENAI_API_KEY = os.getenv(\"OPENAI_API_KEY\")\n",
    "#OPENAI_API_KEY"
   ]
  },
  {
   "cell_type": "code",
   "execution_count": 36,
   "metadata": {},
   "outputs": [],
   "source": [
    "# now lets save this API key inside my environment\n",
    "os.environ[\"OPENAI_API_KEY\"] = OPENAI_API_KEY # whenever I will execute the open AI service it will automatically get the API key from the environment itself"
   ]
  },
  {
   "cell_type": "code",
   "execution_count": 37,
   "metadata": {},
   "outputs": [],
   "source": [
    "# I have to load this pdf with help of pypdf\n",
    "from langchain.document_loaders import PyPDFLoader"
   ]
  },
  {
   "cell_type": "code",
   "execution_count": 38,
   "metadata": {},
   "outputs": [
    {
     "data": {
      "text/plain": [
       "'d:\\\\Industry prep\\\\Gen AI\\\\End to End Gen AI\\\\Interview-Question-Creator'"
      ]
     },
     "execution_count": 38,
     "metadata": {},
     "output_type": "execute_result"
    }
   ],
   "source": [
    "%pwd"
   ]
  },
  {
   "cell_type": "code",
   "execution_count": 39,
   "metadata": {},
   "outputs": [
    {
     "name": "stdout",
     "output_type": "stream",
     "text": [
      "[WinError 2] The system cannot find the file specified: '.. # because stats pdf file is in one folder back and this jupyter file is in reseasrch folder'\n",
      "d:\\Industry prep\\Gen AI\\End to End Gen AI\\Interview-Question-Creator\n"
     ]
    }
   ],
   "source": [
    "%cd .. # because stats pdf file is in one folder back and this jupyter file is in reseasrch folder"
   ]
  },
  {
   "cell_type": "code",
   "execution_count": 40,
   "metadata": {},
   "outputs": [
    {
     "data": {
      "text/plain": [
       "'d:\\\\Industry prep\\\\Gen AI\\\\End to End Gen AI\\\\Interview-Question-Creator'"
      ]
     },
     "execution_count": 40,
     "metadata": {},
     "output_type": "execute_result"
    }
   ],
   "source": [
    "%pwd"
   ]
  },
  {
   "cell_type": "code",
   "execution_count": 41,
   "metadata": {},
   "outputs": [],
   "source": [
    "# now I have to load the data so define the data directory\n",
    "file_path = \"data/stats.pdf\"\n",
    "loader = PyPDFLoader(file_path) # loader object\n",
    "data = loader.load() # load the data"
   ]
  },
  {
   "cell_type": "code",
   "execution_count": 42,
   "metadata": {},
   "outputs": [
    {
     "data": {
      "text/plain": [
       "[Document(page_content='Importance\\nand\\nthe\\nuse\\nof\\ncorrelation\\nin\\nStatistics\\nIntroduction\\nCorrelation\\nis\\na\\nstatistical\\nmeasure\\nthat\\nexpresses\\nthe\\nextent\\nto\\nwhich\\ntwo\\nvariables\\nare\\nlinearly\\nrelated.\\nIt\\nis\\na\\ncommon\\ntool\\nfor\\ndescribing\\nsimple\\nrelationships\\nwithout\\nmaking\\na\\nstatement\\nabout\\ncause\\nand\\neffect.\\nCorrelation\\ncoefficients\\nrange\\nfrom\\n-1\\nto\\n1,\\nwith\\na\\nvalue\\nof\\n0\\nindicating\\nno\\nlinear\\nrelationship\\nbetween\\nthe\\ntwo\\nvariables,\\na\\nvalue\\nof\\n1\\nindicating\\na\\nperfect\\npositive\\nlinear\\nrelationship,\\nand\\na\\nvalue\\nof\\n-1\\nindicating\\na\\nperfect\\nnegative\\nlinear\\nrelationship.\\nCorrelation\\nis\\nimportant\\nin\\nstatistics\\nbecause\\nit\\ncan\\nbe\\nused\\nto\\n1.\\nIdentify\\nrelationships\\nbetween\\nvariables:\\nCorrelation\\ncan\\nbe\\nused\\nto\\nidentify\\nwhether\\nthere\\nis\\na\\nrelationship\\nbetween\\ntwo\\nvariables,\\nand\\nif\\nso,\\nwhether\\nthe\\nrelationship\\nis\\npositive\\nor\\nnegative.\\nThis\\ninformation\\ncan\\nbe\\nuseful\\nfor\\nunderstanding\\nthe\\nrelationships\\nbetween\\ndifferent\\nfactors\\nin\\na\\ncomplex\\nsystem.\\n2.\\nMake\\npredictions:\\nIf\\nthere\\nis\\na\\nstrong\\ncorrelation\\nbetween\\ntwo\\nvariables,\\nit\\nis\\npossible\\nto\\nuse\\nthe\\nvalue\\nof\\none\\nvariable\\nto\\npredict\\nthe\\nvalue\\nof\\nthe\\nother\\nvariable.\\nThis\\ncan\\nbe\\nuseful\\nfor\\nmaking\\npredictions\\nin\\na\\nvariety\\nof\\nfields,\\nsuch\\nas\\nbusiness,\\nfinance,\\nand\\nmedicine.\\n3.\\nDevelop\\ncausal\\nmodels:\\nCorrelation\\ncan\\nbe\\nused\\nas\\na\\nstarting\\npoint\\nfor\\ndeveloping\\ncausal\\nmodels,\\nwhich\\nare\\nmodels\\nthat\\ndescribe\\nhow\\nchanges\\nin\\none\\nvariable\\ncause\\nchanges\\nin\\nother\\nvariables.\\nCausal\\nmodels\\ncan\\nbe\\nused\\nto\\nmake\\nmore\\naccurate\\npredictions\\nand\\nto\\ndevelop\\ninterventions\\nto\\nchange\\nthe\\nvalues\\nof\\nspecific\\nvariables.', metadata={'source': 'data/stats.pdf', 'page': 0}),\n",
       " Document(page_content='Correlation\\nis\\nused\\nin\\na\\nwide\\nvariety\\nof\\nfields\\nincluding\\n1.\\nBusiness:\\nCorrelation\\ncan\\nbe\\nused\\nto\\nidentify\\nrelationships\\nbetween\\ndifferent\\nbusiness\\nvariables,\\nsuch\\nas\\nsales,\\nadvertising\\nspending,\\nand\\ncustomer\\nsatisfaction.\\nThis\\ninformation\\ncan\\nbe\\nused\\nto\\nmake\\nbetter\\nbusiness\\ndecisions,\\nsuch\\nas\\nhow\\nto\\nallocate\\nmarketing\\nresources.\\n2.\\nFinance:\\nCorrelation\\ncan\\nbe\\nused\\nto\\nidentify\\nrelationships\\nbetween\\ndifferent\\nfinancial\\nassets,\\nsuch\\nas\\nstocks,\\nbonds,\\nand\\ncommodities.\\nThis\\ninformation\\ncan\\nbe\\nused\\nto\\nbuild\\ndiversified\\nportfolios\\nthat\\nreduce\\nrisk.\\n3.\\nMedicine:\\nCorrelation\\ncan\\nbe\\nused\\nto\\nidentify\\nrelationships\\nbetween\\ndifferent\\nmedical\\nvariables,\\nsuch\\nas\\nrisk\\nfactors\\nfor\\ndiseases\\nand\\nthe\\neffectiveness\\nof\\ntreatments.\\nThis\\ninformation\\ncan\\nbe\\nused\\nto\\nimprove\\nthe\\nprevention,\\ndiagnosis,\\nand\\ntreatment\\nof\\ndiseases.\\n4.\\nPsychology:\\nCorrelation\\ncan\\nbe\\nused\\nto\\nidentify\\nrelationships\\nbetween\\ndifferent\\npsychological\\nvariables,\\nsuch\\nas\\npersonality\\ntraits,\\ncognitive\\nabilities,\\nand\\nmental\\ndisorders.\\nThis\\ninformation\\ncan\\nbe\\nused\\nto\\ndevelop\\nbetter\\npsychological\\nassessments\\nand\\ntreatments.\\nHow\\ncorrelation\\nis\\nused\\nin\\nthe\\nreal\\nworld\\n1.\\nA\\nmarketing\\nmanager\\nmight\\nuse\\ncorrelation\\nto\\nidentify\\nthe\\nrelationship\\nbetween\\nadvertising\\nspending\\nand\\nsales.\\nThis\\ninformation\\ncould\\nbe\\nused\\nto\\ndecide\\nhow\\nmuch\\nmoney\\nto\\nallocate\\nto\\nadvertising.\\n2.\\nA\\nfinancial\\nanalyst\\nmight\\nuse\\ncorrelation\\nto\\nidentify\\nthe\\nrelationship\\nbetween\\nthe\\nreturns\\nof\\ndifferent\\nstocks.\\nThis\\ninformation\\ncould\\nbe', metadata={'source': 'data/stats.pdf', 'page': 1}),\n",
       " Document(page_content='used\\nto\\nbuild\\na\\nportfolio\\nof\\nstocks\\nthat\\nis\\ndiversified\\nand\\nhas\\na\\nlower\\noverall\\nrisk.\\n3.\\nA\\nmedical\\nresearcher\\nmight\\nuse\\ncorrelation\\nto\\nidentify\\nthe\\nrelationship\\nbetween\\nsmoking\\nand\\nlung\\ncancer.\\nThis\\ninformation\\ncould\\nbe\\nused\\nto\\ndevelop\\npublic\\nhealth\\ncampaigns\\nto\\ndiscourage\\nsmoking.\\n4.\\nA\\npsychologist\\nmight\\nuse\\ncorrelation\\nto\\nidentify\\nthe\\nrelationship\\nbetween\\nanxiety\\nand\\ndepression.\\nThis\\ninformation\\ncould\\nbe\\nused\\nto\\ndevelop\\nmore\\neffective\\ntreatments\\nfor\\nanxiety\\nand\\ndepression.\\nConclusion\\nIt\\nis\\nimportant\\nto\\nnote\\nthat\\ncorrelation\\ndoes\\nnot\\nequal\\ncausation.\\nJust\\nbecause\\ntwo\\nvariables\\nare\\ncorrelated\\ndoes\\nnot\\nmean\\nthat\\none\\nvariable\\ncauses\\nthe\\nother .\\nFor\\nexample,\\nthere\\nis\\na\\nstrong\\ncorrelation\\nbetween\\nice\\ncream\\nsales\\nand\\nshark\\nattacks.\\nHowever ,\\nthis\\ndoes\\nnot\\nmean\\nthat\\neating\\nice\\ncream\\ncauses\\nshark\\nattacks.\\nInstead,\\nthere\\nis\\nlikely\\na\\nthird\\nvariable,\\nsuch\\nas\\nhot\\nweather ,\\nthat\\ncauses\\nboth\\nice\\ncream\\nsales\\nand\\nshark\\nattacks\\nto\\nincrease.\\nOverall,\\ncorrelation\\nis\\na\\npowerful\\nstatistical\\ntool\\nthat\\ncan\\nbe\\nused\\nto\\nidentify\\nrelationships\\nbetween\\nvariables,\\nmake\\npredictions,\\nand\\ndevelop\\ncausal\\nmodels.\\nIt\\nis\\nused\\nin\\na\\nwide\\nvariety\\nof\\nfields\\nto\\nmake\\nbetter\\ndecisions\\nand\\nimprove\\noutcomes.', metadata={'source': 'data/stats.pdf', 'page': 2})]"
      ]
     },
     "execution_count": 42,
     "metadata": {},
     "output_type": "execute_result"
    }
   ],
   "source": [
    "data # 3 page is comming in  output since our document has 3 page"
   ]
  },
  {
   "cell_type": "code",
   "execution_count": 43,
   "metadata": {},
   "outputs": [
    {
     "data": {
      "text/plain": [
       "3"
      ]
     },
     "execution_count": 43,
     "metadata": {},
     "output_type": "execute_result"
    }
   ],
   "source": [
    "len(data)"
   ]
  },
  {
   "cell_type": "code",
   "execution_count": 44,
   "metadata": {},
   "outputs": [],
   "source": [
    "# we have 3 page content separetely. Now instead of taking 3 page separetely , I will store everything in one variable.\n",
    "# I will take empty variable\n",
    "question_gen = \" \"\n",
    "\n",
    "for page in data:\n",
    "    question_gen += page.page_content # I will collect the content of the 3 pages"
   ]
  },
  {
   "cell_type": "code",
   "execution_count": 45,
   "metadata": {},
   "outputs": [
    {
     "data": {
      "text/plain": [
       "' Importance\\nand\\nthe\\nuse\\nof\\ncorrelation\\nin\\nStatistics\\nIntroduction\\nCorrelation\\nis\\na\\nstatistical\\nmeasure\\nthat\\nexpresses\\nthe\\nextent\\nto\\nwhich\\ntwo\\nvariables\\nare\\nlinearly\\nrelated.\\nIt\\nis\\na\\ncommon\\ntool\\nfor\\ndescribing\\nsimple\\nrelationships\\nwithout\\nmaking\\na\\nstatement\\nabout\\ncause\\nand\\neffect.\\nCorrelation\\ncoefficients\\nrange\\nfrom\\n-1\\nto\\n1,\\nwith\\na\\nvalue\\nof\\n0\\nindicating\\nno\\nlinear\\nrelationship\\nbetween\\nthe\\ntwo\\nvariables,\\na\\nvalue\\nof\\n1\\nindicating\\na\\nperfect\\npositive\\nlinear\\nrelationship,\\nand\\na\\nvalue\\nof\\n-1\\nindicating\\na\\nperfect\\nnegative\\nlinear\\nrelationship.\\nCorrelation\\nis\\nimportant\\nin\\nstatistics\\nbecause\\nit\\ncan\\nbe\\nused\\nto\\n1.\\nIdentify\\nrelationships\\nbetween\\nvariables:\\nCorrelation\\ncan\\nbe\\nused\\nto\\nidentify\\nwhether\\nthere\\nis\\na\\nrelationship\\nbetween\\ntwo\\nvariables,\\nand\\nif\\nso,\\nwhether\\nthe\\nrelationship\\nis\\npositive\\nor\\nnegative.\\nThis\\ninformation\\ncan\\nbe\\nuseful\\nfor\\nunderstanding\\nthe\\nrelationships\\nbetween\\ndifferent\\nfactors\\nin\\na\\ncomplex\\nsystem.\\n2.\\nMake\\npredictions:\\nIf\\nthere\\nis\\na\\nstrong\\ncorrelation\\nbetween\\ntwo\\nvariables,\\nit\\nis\\npossible\\nto\\nuse\\nthe\\nvalue\\nof\\none\\nvariable\\nto\\npredict\\nthe\\nvalue\\nof\\nthe\\nother\\nvariable.\\nThis\\ncan\\nbe\\nuseful\\nfor\\nmaking\\npredictions\\nin\\na\\nvariety\\nof\\nfields,\\nsuch\\nas\\nbusiness,\\nfinance,\\nand\\nmedicine.\\n3.\\nDevelop\\ncausal\\nmodels:\\nCorrelation\\ncan\\nbe\\nused\\nas\\na\\nstarting\\npoint\\nfor\\ndeveloping\\ncausal\\nmodels,\\nwhich\\nare\\nmodels\\nthat\\ndescribe\\nhow\\nchanges\\nin\\none\\nvariable\\ncause\\nchanges\\nin\\nother\\nvariables.\\nCausal\\nmodels\\ncan\\nbe\\nused\\nto\\nmake\\nmore\\naccurate\\npredictions\\nand\\nto\\ndevelop\\ninterventions\\nto\\nchange\\nthe\\nvalues\\nof\\nspecific\\nvariables.Correlation\\nis\\nused\\nin\\na\\nwide\\nvariety\\nof\\nfields\\nincluding\\n1.\\nBusiness:\\nCorrelation\\ncan\\nbe\\nused\\nto\\nidentify\\nrelationships\\nbetween\\ndifferent\\nbusiness\\nvariables,\\nsuch\\nas\\nsales,\\nadvertising\\nspending,\\nand\\ncustomer\\nsatisfaction.\\nThis\\ninformation\\ncan\\nbe\\nused\\nto\\nmake\\nbetter\\nbusiness\\ndecisions,\\nsuch\\nas\\nhow\\nto\\nallocate\\nmarketing\\nresources.\\n2.\\nFinance:\\nCorrelation\\ncan\\nbe\\nused\\nto\\nidentify\\nrelationships\\nbetween\\ndifferent\\nfinancial\\nassets,\\nsuch\\nas\\nstocks,\\nbonds,\\nand\\ncommodities.\\nThis\\ninformation\\ncan\\nbe\\nused\\nto\\nbuild\\ndiversified\\nportfolios\\nthat\\nreduce\\nrisk.\\n3.\\nMedicine:\\nCorrelation\\ncan\\nbe\\nused\\nto\\nidentify\\nrelationships\\nbetween\\ndifferent\\nmedical\\nvariables,\\nsuch\\nas\\nrisk\\nfactors\\nfor\\ndiseases\\nand\\nthe\\neffectiveness\\nof\\ntreatments.\\nThis\\ninformation\\ncan\\nbe\\nused\\nto\\nimprove\\nthe\\nprevention,\\ndiagnosis,\\nand\\ntreatment\\nof\\ndiseases.\\n4.\\nPsychology:\\nCorrelation\\ncan\\nbe\\nused\\nto\\nidentify\\nrelationships\\nbetween\\ndifferent\\npsychological\\nvariables,\\nsuch\\nas\\npersonality\\ntraits,\\ncognitive\\nabilities,\\nand\\nmental\\ndisorders.\\nThis\\ninformation\\ncan\\nbe\\nused\\nto\\ndevelop\\nbetter\\npsychological\\nassessments\\nand\\ntreatments.\\nHow\\ncorrelation\\nis\\nused\\nin\\nthe\\nreal\\nworld\\n1.\\nA\\nmarketing\\nmanager\\nmight\\nuse\\ncorrelation\\nto\\nidentify\\nthe\\nrelationship\\nbetween\\nadvertising\\nspending\\nand\\nsales.\\nThis\\ninformation\\ncould\\nbe\\nused\\nto\\ndecide\\nhow\\nmuch\\nmoney\\nto\\nallocate\\nto\\nadvertising.\\n2.\\nA\\nfinancial\\nanalyst\\nmight\\nuse\\ncorrelation\\nto\\nidentify\\nthe\\nrelationship\\nbetween\\nthe\\nreturns\\nof\\ndifferent\\nstocks.\\nThis\\ninformation\\ncould\\nbeused\\nto\\nbuild\\na\\nportfolio\\nof\\nstocks\\nthat\\nis\\ndiversified\\nand\\nhas\\na\\nlower\\noverall\\nrisk.\\n3.\\nA\\nmedical\\nresearcher\\nmight\\nuse\\ncorrelation\\nto\\nidentify\\nthe\\nrelationship\\nbetween\\nsmoking\\nand\\nlung\\ncancer.\\nThis\\ninformation\\ncould\\nbe\\nused\\nto\\ndevelop\\npublic\\nhealth\\ncampaigns\\nto\\ndiscourage\\nsmoking.\\n4.\\nA\\npsychologist\\nmight\\nuse\\ncorrelation\\nto\\nidentify\\nthe\\nrelationship\\nbetween\\nanxiety\\nand\\ndepression.\\nThis\\ninformation\\ncould\\nbe\\nused\\nto\\ndevelop\\nmore\\neffective\\ntreatments\\nfor\\nanxiety\\nand\\ndepression.\\nConclusion\\nIt\\nis\\nimportant\\nto\\nnote\\nthat\\ncorrelation\\ndoes\\nnot\\nequal\\ncausation.\\nJust\\nbecause\\ntwo\\nvariables\\nare\\ncorrelated\\ndoes\\nnot\\nmean\\nthat\\none\\nvariable\\ncauses\\nthe\\nother .\\nFor\\nexample,\\nthere\\nis\\na\\nstrong\\ncorrelation\\nbetween\\nice\\ncream\\nsales\\nand\\nshark\\nattacks.\\nHowever ,\\nthis\\ndoes\\nnot\\nmean\\nthat\\neating\\nice\\ncream\\ncauses\\nshark\\nattacks.\\nInstead,\\nthere\\nis\\nlikely\\na\\nthird\\nvariable,\\nsuch\\nas\\nhot\\nweather ,\\nthat\\ncauses\\nboth\\nice\\ncream\\nsales\\nand\\nshark\\nattacks\\nto\\nincrease.\\nOverall,\\ncorrelation\\nis\\na\\npowerful\\nstatistical\\ntool\\nthat\\ncan\\nbe\\nused\\nto\\nidentify\\nrelationships\\nbetween\\nvariables,\\nmake\\npredictions,\\nand\\ndevelop\\ncausal\\nmodels.\\nIt\\nis\\nused\\nin\\na\\nwide\\nvariety\\nof\\nfields\\nto\\nmake\\nbetter\\ndecisions\\nand\\nimprove\\noutcomes.'"
      ]
     },
     "execution_count": 45,
     "metadata": {},
     "output_type": "execute_result"
    }
   ],
   "source": [
    "question_gen"
   ]
  },
  {
   "cell_type": "markdown",
   "metadata": {},
   "source": [
    "### **Step 2: Create Chunks - Extracted doc ---> Chunks**"
   ]
  },
  {
   "cell_type": "code",
   "execution_count": 46,
   "metadata": {},
   "outputs": [],
   "source": [
    "from langchain_text_splitters import TokenTextSplitter"
   ]
  },
  {
   "cell_type": "code",
   "execution_count": 47,
   "metadata": {},
   "outputs": [],
   "source": [
    "splitter_ques_gen = TokenTextSplitter(\n",
    "    model_name = \"gpt-3.5-turbo\",\n",
    "    chunk_size = 10000,\n",
    "    chunk_overlap = 200\n",
    "    \n",
    ")\n",
    "# This line is creating TokenTextSplitter class and assigning it to the variable splitter_ques_gen. The TokenTextSplitter is  a class designed to handle text splitting, particularly for large texts \n",
    "# that need to be divided into manageable chunks, often for processing by a language model like GPT-3.5-turbo. \n",
    "# model_name=\"gpt-3.5-turbo\":This specifies the model that will be used for text processing. In this case, it's gpt-3.5-turbo, which is a version of OpenAI's GPT-3 model designed for more \n",
    "# efficient and effective text generation and processing.\n",
    "# chunk_size=10000:This sets the size of each chunk that the text will be split into. The chunk size of 10,000 tokens indicates that the text will be divided into segments of up to 10,000 tokens each. \n",
    "# chunk_overlap=200:This specifies the number of tokens that will overlap between consecutive chunks. An overlap of 200 tokens means that the last 200 tokens of one chunk will be repeated as the \n",
    "# first 200 tokens of the next chunk. This overlap can help maintain context between chunks."
   ]
  },
  {
   "cell_type": "code",
   "execution_count": 48,
   "metadata": {},
   "outputs": [],
   "source": [
    "# I will call the splitter object splitter_ques_gen to split the text\n",
    "chunk_ques_gen = splitter_ques_gen.split_text(question_gen) # this will give me chunks"
   ]
  },
  {
   "cell_type": "code",
   "execution_count": 49,
   "metadata": {},
   "outputs": [
    {
     "data": {
      "text/plain": [
       "[' Importance\\nand\\nthe\\nuse\\nof\\ncorrelation\\nin\\nStatistics\\nIntroduction\\nCorrelation\\nis\\na\\nstatistical\\nmeasure\\nthat\\nexpresses\\nthe\\nextent\\nto\\nwhich\\ntwo\\nvariables\\nare\\nlinearly\\nrelated.\\nIt\\nis\\na\\ncommon\\ntool\\nfor\\ndescribing\\nsimple\\nrelationships\\nwithout\\nmaking\\na\\nstatement\\nabout\\ncause\\nand\\neffect.\\nCorrelation\\ncoefficients\\nrange\\nfrom\\n-1\\nto\\n1,\\nwith\\na\\nvalue\\nof\\n0\\nindicating\\nno\\nlinear\\nrelationship\\nbetween\\nthe\\ntwo\\nvariables,\\na\\nvalue\\nof\\n1\\nindicating\\na\\nperfect\\npositive\\nlinear\\nrelationship,\\nand\\na\\nvalue\\nof\\n-1\\nindicating\\na\\nperfect\\nnegative\\nlinear\\nrelationship.\\nCorrelation\\nis\\nimportant\\nin\\nstatistics\\nbecause\\nit\\ncan\\nbe\\nused\\nto\\n1.\\nIdentify\\nrelationships\\nbetween\\nvariables:\\nCorrelation\\ncan\\nbe\\nused\\nto\\nidentify\\nwhether\\nthere\\nis\\na\\nrelationship\\nbetween\\ntwo\\nvariables,\\nand\\nif\\nso,\\nwhether\\nthe\\nrelationship\\nis\\npositive\\nor\\nnegative.\\nThis\\ninformation\\ncan\\nbe\\nuseful\\nfor\\nunderstanding\\nthe\\nrelationships\\nbetween\\ndifferent\\nfactors\\nin\\na\\ncomplex\\nsystem.\\n2.\\nMake\\npredictions:\\nIf\\nthere\\nis\\na\\nstrong\\ncorrelation\\nbetween\\ntwo\\nvariables,\\nit\\nis\\npossible\\nto\\nuse\\nthe\\nvalue\\nof\\none\\nvariable\\nto\\npredict\\nthe\\nvalue\\nof\\nthe\\nother\\nvariable.\\nThis\\ncan\\nbe\\nuseful\\nfor\\nmaking\\npredictions\\nin\\na\\nvariety\\nof\\nfields,\\nsuch\\nas\\nbusiness,\\nfinance,\\nand\\nmedicine.\\n3.\\nDevelop\\ncausal\\nmodels:\\nCorrelation\\ncan\\nbe\\nused\\nas\\na\\nstarting\\npoint\\nfor\\ndeveloping\\ncausal\\nmodels,\\nwhich\\nare\\nmodels\\nthat\\ndescribe\\nhow\\nchanges\\nin\\none\\nvariable\\ncause\\nchanges\\nin\\nother\\nvariables.\\nCausal\\nmodels\\ncan\\nbe\\nused\\nto\\nmake\\nmore\\naccurate\\npredictions\\nand\\nto\\ndevelop\\ninterventions\\nto\\nchange\\nthe\\nvalues\\nof\\nspecific\\nvariables.Correlation\\nis\\nused\\nin\\na\\nwide\\nvariety\\nof\\nfields\\nincluding\\n1.\\nBusiness:\\nCorrelation\\ncan\\nbe\\nused\\nto\\nidentify\\nrelationships\\nbetween\\ndifferent\\nbusiness\\nvariables,\\nsuch\\nas\\nsales,\\nadvertising\\nspending,\\nand\\ncustomer\\nsatisfaction.\\nThis\\ninformation\\ncan\\nbe\\nused\\nto\\nmake\\nbetter\\nbusiness\\ndecisions,\\nsuch\\nas\\nhow\\nto\\nallocate\\nmarketing\\nresources.\\n2.\\nFinance:\\nCorrelation\\ncan\\nbe\\nused\\nto\\nidentify\\nrelationships\\nbetween\\ndifferent\\nfinancial\\nassets,\\nsuch\\nas\\nstocks,\\nbonds,\\nand\\ncommodities.\\nThis\\ninformation\\ncan\\nbe\\nused\\nto\\nbuild\\ndiversified\\nportfolios\\nthat\\nreduce\\nrisk.\\n3.\\nMedicine:\\nCorrelation\\ncan\\nbe\\nused\\nto\\nidentify\\nrelationships\\nbetween\\ndifferent\\nmedical\\nvariables,\\nsuch\\nas\\nrisk\\nfactors\\nfor\\ndiseases\\nand\\nthe\\neffectiveness\\nof\\ntreatments.\\nThis\\ninformation\\ncan\\nbe\\nused\\nto\\nimprove\\nthe\\nprevention,\\ndiagnosis,\\nand\\ntreatment\\nof\\ndiseases.\\n4.\\nPsychology:\\nCorrelation\\ncan\\nbe\\nused\\nto\\nidentify\\nrelationships\\nbetween\\ndifferent\\npsychological\\nvariables,\\nsuch\\nas\\npersonality\\ntraits,\\ncognitive\\nabilities,\\nand\\nmental\\ndisorders.\\nThis\\ninformation\\ncan\\nbe\\nused\\nto\\ndevelop\\nbetter\\npsychological\\nassessments\\nand\\ntreatments.\\nHow\\ncorrelation\\nis\\nused\\nin\\nthe\\nreal\\nworld\\n1.\\nA\\nmarketing\\nmanager\\nmight\\nuse\\ncorrelation\\nto\\nidentify\\nthe\\nrelationship\\nbetween\\nadvertising\\nspending\\nand\\nsales.\\nThis\\ninformation\\ncould\\nbe\\nused\\nto\\ndecide\\nhow\\nmuch\\nmoney\\nto\\nallocate\\nto\\nadvertising.\\n2.\\nA\\nfinancial\\nanalyst\\nmight\\nuse\\ncorrelation\\nto\\nidentify\\nthe\\nrelationship\\nbetween\\nthe\\nreturns\\nof\\ndifferent\\nstocks.\\nThis\\ninformation\\ncould\\nbeused\\nto\\nbuild\\na\\nportfolio\\nof\\nstocks\\nthat\\nis\\ndiversified\\nand\\nhas\\na\\nlower\\noverall\\nrisk.\\n3.\\nA\\nmedical\\nresearcher\\nmight\\nuse\\ncorrelation\\nto\\nidentify\\nthe\\nrelationship\\nbetween\\nsmoking\\nand\\nlung\\ncancer.\\nThis\\ninformation\\ncould\\nbe\\nused\\nto\\ndevelop\\npublic\\nhealth\\ncampaigns\\nto\\ndiscourage\\nsmoking.\\n4.\\nA\\npsychologist\\nmight\\nuse\\ncorrelation\\nto\\nidentify\\nthe\\nrelationship\\nbetween\\nanxiety\\nand\\ndepression.\\nThis\\ninformation\\ncould\\nbe\\nused\\nto\\ndevelop\\nmore\\neffective\\ntreatments\\nfor\\nanxiety\\nand\\ndepression.\\nConclusion\\nIt\\nis\\nimportant\\nto\\nnote\\nthat\\ncorrelation\\ndoes\\nnot\\nequal\\ncausation.\\nJust\\nbecause\\ntwo\\nvariables\\nare\\ncorrelated\\ndoes\\nnot\\nmean\\nthat\\none\\nvariable\\ncauses\\nthe\\nother .\\nFor\\nexample,\\nthere\\nis\\na\\nstrong\\ncorrelation\\nbetween\\nice\\ncream\\nsales\\nand\\nshark\\nattacks.\\nHowever ,\\nthis\\ndoes\\nnot\\nmean\\nthat\\neating\\nice\\ncream\\ncauses\\nshark\\nattacks.\\nInstead,\\nthere\\nis\\nlikely\\na\\nthird\\nvariable,\\nsuch\\nas\\nhot\\nweather ,\\nthat\\ncauses\\nboth\\nice\\ncream\\nsales\\nand\\nshark\\nattacks\\nto\\nincrease.\\nOverall,\\ncorrelation\\nis\\na\\npowerful\\nstatistical\\ntool\\nthat\\ncan\\nbe\\nused\\nto\\nidentify\\nrelationships\\nbetween\\nvariables,\\nmake\\npredictions,\\nand\\ndevelop\\ncausal\\nmodels.\\nIt\\nis\\nused\\nin\\na\\nwide\\nvariety\\nof\\nfields\\nto\\nmake\\nbetter\\ndecisions\\nand\\nimprove\\noutcomes.']"
      ]
     },
     "execution_count": 49,
     "metadata": {},
     "output_type": "execute_result"
    }
   ],
   "source": [
    "chunk_ques_gen"
   ]
  },
  {
   "cell_type": "code",
   "execution_count": 50,
   "metadata": {},
   "outputs": [
    {
     "data": {
      "text/plain": [
       "1"
      ]
     },
     "execution_count": 50,
     "metadata": {},
     "output_type": "execute_result"
    }
   ],
   "source": [
    "len(chunk_ques_gen)"
   ]
  },
  {
   "cell_type": "code",
   "execution_count": 51,
   "metadata": {},
   "outputs": [
    {
     "data": {
      "text/plain": [
       "list"
      ]
     },
     "execution_count": 51,
     "metadata": {},
     "output_type": "execute_result"
    }
   ],
   "source": [
    "type(chunk_ques_gen)"
   ]
  },
  {
   "cell_type": "code",
   "execution_count": 53,
   "metadata": {},
   "outputs": [
    {
     "data": {
      "text/plain": [
       "str"
      ]
     },
     "execution_count": 53,
     "metadata": {},
     "output_type": "execute_result"
    }
   ],
   "source": [
    "type(chunk_ques_gen[0])"
   ]
  },
  {
   "cell_type": "code",
   "execution_count": 60,
   "metadata": {},
   "outputs": [],
   "source": [
    "# Now lets convert this str format to document format because Embedding model support Document format"
   ]
  },
  {
   "cell_type": "code",
   "execution_count": 54,
   "metadata": {},
   "outputs": [],
   "source": [
    "from langchain.docstore.document import Document"
   ]
  },
  {
   "cell_type": "code",
   "execution_count": 55,
   "metadata": {},
   "outputs": [],
   "source": [
    "document_ques_gen = [Document(page_content=t) for t in chunk_ques_gen] # text t i am getting is converting to docuement\n",
    "\n",
    "# In many natural language processing (NLP) workflows, especially when using frameworks like LangChain, data needs to be encapsulated in specific formats or objects to leverage the framework's full \n",
    "# functionality. For instance, LangChain may require text to be wrapped in Document objects to manage metadata, handle various document processing utilities, or interface with certain models more effectively."
   ]
  },
  {
   "cell_type": "code",
   "execution_count": 56,
   "metadata": {},
   "outputs": [
    {
     "data": {
      "text/plain": [
       "[Document(page_content=' Importance\\nand\\nthe\\nuse\\nof\\ncorrelation\\nin\\nStatistics\\nIntroduction\\nCorrelation\\nis\\na\\nstatistical\\nmeasure\\nthat\\nexpresses\\nthe\\nextent\\nto\\nwhich\\ntwo\\nvariables\\nare\\nlinearly\\nrelated.\\nIt\\nis\\na\\ncommon\\ntool\\nfor\\ndescribing\\nsimple\\nrelationships\\nwithout\\nmaking\\na\\nstatement\\nabout\\ncause\\nand\\neffect.\\nCorrelation\\ncoefficients\\nrange\\nfrom\\n-1\\nto\\n1,\\nwith\\na\\nvalue\\nof\\n0\\nindicating\\nno\\nlinear\\nrelationship\\nbetween\\nthe\\ntwo\\nvariables,\\na\\nvalue\\nof\\n1\\nindicating\\na\\nperfect\\npositive\\nlinear\\nrelationship,\\nand\\na\\nvalue\\nof\\n-1\\nindicating\\na\\nperfect\\nnegative\\nlinear\\nrelationship.\\nCorrelation\\nis\\nimportant\\nin\\nstatistics\\nbecause\\nit\\ncan\\nbe\\nused\\nto\\n1.\\nIdentify\\nrelationships\\nbetween\\nvariables:\\nCorrelation\\ncan\\nbe\\nused\\nto\\nidentify\\nwhether\\nthere\\nis\\na\\nrelationship\\nbetween\\ntwo\\nvariables,\\nand\\nif\\nso,\\nwhether\\nthe\\nrelationship\\nis\\npositive\\nor\\nnegative.\\nThis\\ninformation\\ncan\\nbe\\nuseful\\nfor\\nunderstanding\\nthe\\nrelationships\\nbetween\\ndifferent\\nfactors\\nin\\na\\ncomplex\\nsystem.\\n2.\\nMake\\npredictions:\\nIf\\nthere\\nis\\na\\nstrong\\ncorrelation\\nbetween\\ntwo\\nvariables,\\nit\\nis\\npossible\\nto\\nuse\\nthe\\nvalue\\nof\\none\\nvariable\\nto\\npredict\\nthe\\nvalue\\nof\\nthe\\nother\\nvariable.\\nThis\\ncan\\nbe\\nuseful\\nfor\\nmaking\\npredictions\\nin\\na\\nvariety\\nof\\nfields,\\nsuch\\nas\\nbusiness,\\nfinance,\\nand\\nmedicine.\\n3.\\nDevelop\\ncausal\\nmodels:\\nCorrelation\\ncan\\nbe\\nused\\nas\\na\\nstarting\\npoint\\nfor\\ndeveloping\\ncausal\\nmodels,\\nwhich\\nare\\nmodels\\nthat\\ndescribe\\nhow\\nchanges\\nin\\none\\nvariable\\ncause\\nchanges\\nin\\nother\\nvariables.\\nCausal\\nmodels\\ncan\\nbe\\nused\\nto\\nmake\\nmore\\naccurate\\npredictions\\nand\\nto\\ndevelop\\ninterventions\\nto\\nchange\\nthe\\nvalues\\nof\\nspecific\\nvariables.Correlation\\nis\\nused\\nin\\na\\nwide\\nvariety\\nof\\nfields\\nincluding\\n1.\\nBusiness:\\nCorrelation\\ncan\\nbe\\nused\\nto\\nidentify\\nrelationships\\nbetween\\ndifferent\\nbusiness\\nvariables,\\nsuch\\nas\\nsales,\\nadvertising\\nspending,\\nand\\ncustomer\\nsatisfaction.\\nThis\\ninformation\\ncan\\nbe\\nused\\nto\\nmake\\nbetter\\nbusiness\\ndecisions,\\nsuch\\nas\\nhow\\nto\\nallocate\\nmarketing\\nresources.\\n2.\\nFinance:\\nCorrelation\\ncan\\nbe\\nused\\nto\\nidentify\\nrelationships\\nbetween\\ndifferent\\nfinancial\\nassets,\\nsuch\\nas\\nstocks,\\nbonds,\\nand\\ncommodities.\\nThis\\ninformation\\ncan\\nbe\\nused\\nto\\nbuild\\ndiversified\\nportfolios\\nthat\\nreduce\\nrisk.\\n3.\\nMedicine:\\nCorrelation\\ncan\\nbe\\nused\\nto\\nidentify\\nrelationships\\nbetween\\ndifferent\\nmedical\\nvariables,\\nsuch\\nas\\nrisk\\nfactors\\nfor\\ndiseases\\nand\\nthe\\neffectiveness\\nof\\ntreatments.\\nThis\\ninformation\\ncan\\nbe\\nused\\nto\\nimprove\\nthe\\nprevention,\\ndiagnosis,\\nand\\ntreatment\\nof\\ndiseases.\\n4.\\nPsychology:\\nCorrelation\\ncan\\nbe\\nused\\nto\\nidentify\\nrelationships\\nbetween\\ndifferent\\npsychological\\nvariables,\\nsuch\\nas\\npersonality\\ntraits,\\ncognitive\\nabilities,\\nand\\nmental\\ndisorders.\\nThis\\ninformation\\ncan\\nbe\\nused\\nto\\ndevelop\\nbetter\\npsychological\\nassessments\\nand\\ntreatments.\\nHow\\ncorrelation\\nis\\nused\\nin\\nthe\\nreal\\nworld\\n1.\\nA\\nmarketing\\nmanager\\nmight\\nuse\\ncorrelation\\nto\\nidentify\\nthe\\nrelationship\\nbetween\\nadvertising\\nspending\\nand\\nsales.\\nThis\\ninformation\\ncould\\nbe\\nused\\nto\\ndecide\\nhow\\nmuch\\nmoney\\nto\\nallocate\\nto\\nadvertising.\\n2.\\nA\\nfinancial\\nanalyst\\nmight\\nuse\\ncorrelation\\nto\\nidentify\\nthe\\nrelationship\\nbetween\\nthe\\nreturns\\nof\\ndifferent\\nstocks.\\nThis\\ninformation\\ncould\\nbeused\\nto\\nbuild\\na\\nportfolio\\nof\\nstocks\\nthat\\nis\\ndiversified\\nand\\nhas\\na\\nlower\\noverall\\nrisk.\\n3.\\nA\\nmedical\\nresearcher\\nmight\\nuse\\ncorrelation\\nto\\nidentify\\nthe\\nrelationship\\nbetween\\nsmoking\\nand\\nlung\\ncancer.\\nThis\\ninformation\\ncould\\nbe\\nused\\nto\\ndevelop\\npublic\\nhealth\\ncampaigns\\nto\\ndiscourage\\nsmoking.\\n4.\\nA\\npsychologist\\nmight\\nuse\\ncorrelation\\nto\\nidentify\\nthe\\nrelationship\\nbetween\\nanxiety\\nand\\ndepression.\\nThis\\ninformation\\ncould\\nbe\\nused\\nto\\ndevelop\\nmore\\neffective\\ntreatments\\nfor\\nanxiety\\nand\\ndepression.\\nConclusion\\nIt\\nis\\nimportant\\nto\\nnote\\nthat\\ncorrelation\\ndoes\\nnot\\nequal\\ncausation.\\nJust\\nbecause\\ntwo\\nvariables\\nare\\ncorrelated\\ndoes\\nnot\\nmean\\nthat\\none\\nvariable\\ncauses\\nthe\\nother .\\nFor\\nexample,\\nthere\\nis\\na\\nstrong\\ncorrelation\\nbetween\\nice\\ncream\\nsales\\nand\\nshark\\nattacks.\\nHowever ,\\nthis\\ndoes\\nnot\\nmean\\nthat\\neating\\nice\\ncream\\ncauses\\nshark\\nattacks.\\nInstead,\\nthere\\nis\\nlikely\\na\\nthird\\nvariable,\\nsuch\\nas\\nhot\\nweather ,\\nthat\\ncauses\\nboth\\nice\\ncream\\nsales\\nand\\nshark\\nattacks\\nto\\nincrease.\\nOverall,\\ncorrelation\\nis\\na\\npowerful\\nstatistical\\ntool\\nthat\\ncan\\nbe\\nused\\nto\\nidentify\\nrelationships\\nbetween\\nvariables,\\nmake\\npredictions,\\nand\\ndevelop\\ncausal\\nmodels.\\nIt\\nis\\nused\\nin\\na\\nwide\\nvariety\\nof\\nfields\\nto\\nmake\\nbetter\\ndecisions\\nand\\nimprove\\noutcomes.')]"
      ]
     },
     "execution_count": 56,
     "metadata": {},
     "output_type": "execute_result"
    }
   ],
   "source": [
    "document_ques_gen # Document format now stored in page_content"
   ]
  },
  {
   "cell_type": "code",
   "execution_count": 58,
   "metadata": {},
   "outputs": [
    {
     "data": {
      "text/plain": [
       "langchain_core.documents.base.Document"
      ]
     },
     "execution_count": 58,
     "metadata": {},
     "output_type": "execute_result"
    }
   ],
   "source": [
    "type(document_ques_gen[0]) # Langchain document format"
   ]
  },
  {
   "cell_type": "code",
   "execution_count": 59,
   "metadata": {},
   "outputs": [],
   "source": [
    "# Embedding model supports Document format not other format. Now it is ready for the embedding model"
   ]
  },
  {
   "cell_type": "markdown",
   "metadata": {},
   "source": [
    "### **Step 3: Embedding Model- Chunks ---> Embedding Model**"
   ]
  },
  {
   "cell_type": "code",
   "execution_count": null,
   "metadata": {},
   "outputs": [],
   "source": []
  }
 ],
 "metadata": {
  "kernelspec": {
   "display_name": "interview",
   "language": "python",
   "name": "python3"
  },
  "language_info": {
   "codemirror_mode": {
    "name": "ipython",
    "version": 3
   },
   "file_extension": ".py",
   "mimetype": "text/x-python",
   "name": "python",
   "nbconvert_exporter": "python",
   "pygments_lexer": "ipython3",
   "version": "3.10.14"
  }
 },
 "nbformat": 4,
 "nbformat_minor": 2
}
